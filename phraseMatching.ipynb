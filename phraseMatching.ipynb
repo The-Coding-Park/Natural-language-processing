{
 "cells": [
  {
   "cell_type": "code",
   "execution_count": 1,
   "metadata": {},
   "outputs": [],
   "source": [
    "import spacy"
   ]
  },
  {
   "cell_type": "code",
   "execution_count": 2,
   "metadata": {},
   "outputs": [],
   "source": [
    "nlp=spacy.load(\"en_core_web_sm\")"
   ]
  },
  {
   "cell_type": "code",
   "execution_count": 3,
   "metadata": {},
   "outputs": [],
   "source": [
    "from spacy.matcher import Matcher"
   ]
  },
  {
   "cell_type": "code",
   "execution_count": 4,
   "metadata": {},
   "outputs": [],
   "source": [
    "matcher=Matcher(nlp.vocab)"
   ]
  },
  {
   "cell_type": "code",
   "execution_count": 5,
   "metadata": {},
   "outputs": [],
   "source": [
    "pattern1=[{'lower':\"solarpower\"}]\n",
    "pattern2=[{'lower':'solar'},{'IS_PUNCT':True},{'lower':'power'}]\n",
    "pattern3=[{'lower':'solar'},{'lower':'power'}]"
   ]
  },
  {
   "cell_type": "code",
   "execution_count": 6,
   "metadata": {},
   "outputs": [],
   "source": [
    "matcher.add('sloarpower',None,pattern1,pattern2,pattern3)"
   ]
  },
  {
   "cell_type": "code",
   "execution_count": 7,
   "metadata": {},
   "outputs": [],
   "source": [
    "doc=nlp(u\"\"\"Solar power is usable energy generated from the sun in the form of electric or thermal energy. Solar energy is captured in a variety of ways, the most common of which is with photovoltaic solar panels that convert the sun’s rays into usable electricity. Aside from using photovoltaics to generate electricity, solar energy is commonly used in thermal applications to heat indoor spaces or fluids. Residential and commercial property owners can install solar hot water systems and design their buildings with passive solar heating in mind to fully take advantage of the sun's energy with solar technology.\n",
    "\n",
    "Interested in benefiting from solar power? Solar panels are installed at three main scales: residential, commercial, and utility. Residential-scale solar is typically installed on rooftops of homes or in open land (ground-mounted) and is generally between 5 and 20 kilowatts (kW), depending on the size of a property. Commercial solar energy projects are generally installed at a greater scale than residential solar. Though individual installations can vary greatly in size, commercial-scale solar serves a consistent purpose: to provide on-site solar power to businesses and non-profits. Finally, utility-scale solar projects are typically large, several megawatt (MW) installations that provide solar energy to a large number of utility customers.\n",
    "\n",
    "For some solar shoppers who may not be able to install solar on their property, community solar is a viable solar option that more directly connects utility-scale solar energy projects to residential consumers. As such, community solar farms are typically built in a central location as opposed to on any single customer’s property. Residential consumers can subscribe to a community solar project to receive many of the benefits of solar power without installing solar panels on their property.\"\"\")"
   ]
  },
  {
   "cell_type": "code",
   "execution_count": 8,
   "metadata": {},
   "outputs": [],
   "source": [
    "found_matches=matcher(doc)"
   ]
  },
  {
   "cell_type": "code",
   "execution_count": 9,
   "metadata": {},
   "outputs": [
    {
     "name": "stdout",
     "output_type": "stream",
     "text": [
      "[(1366269385606280912, 0, 2), (1366269385606280912, 110, 112), (1366269385606280912, 207, 209), (1366269385606280912, 322, 324)]\n"
     ]
    }
   ],
   "source": [
    "print( found_matches)"
   ]
  },
  {
   "cell_type": "code",
   "execution_count": 10,
   "metadata": {},
   "outputs": [
    {
     "name": "stdout",
     "output_type": "stream",
     "text": [
      "1366269385606280912 sloarpower 0 2 Solar power\n",
      "1366269385606280912 sloarpower 110 112 solar power\n",
      "1366269385606280912 sloarpower 207 209 solar power\n",
      "1366269385606280912 sloarpower 322 324 solar power\n"
     ]
    }
   ],
   "source": [
    "for match_id,start, end in found_matches:\n",
    "    string_id=nlp.vocab.strings[match_id]\n",
    "    span=doc[start:end]\n",
    "    print(match_id,string_id,start,end,span.text)"
   ]
  },
  {
   "cell_type": "code",
   "execution_count": null,
   "metadata": {},
   "outputs": [],
   "source": []
  },
  {
   "cell_type": "markdown",
   "metadata": {},
   "source": [
    "matcher.remove('sloarpower')"
   ]
  },
  {
   "cell_type": "code",
   "execution_count": 11,
   "metadata": {},
   "outputs": [],
   "source": [
    "pattern1=[{'LOWER':'solarpower'}]\n",
    "pattern2=[{\"LOWER\":'solar'},{'IS_PUNCT':True,'op':'*'},{'LOWER':'power'}]"
   ]
  },
  {
   "cell_type": "code",
   "execution_count": 12,
   "metadata": {},
   "outputs": [],
   "source": [
    "matcher.add('SolarPower',None, pattern1,pattern2)"
   ]
  },
  {
   "cell_type": "code",
   "execution_count": 13,
   "metadata": {},
   "outputs": [],
   "source": [
    "doc2=nlp(u'solar-power is solarpower yay!')"
   ]
  },
  {
   "cell_type": "code",
   "execution_count": 14,
   "metadata": {},
   "outputs": [],
   "source": [
    "found_matches=matcher(doc2)"
   ]
  },
  {
   "cell_type": "code",
   "execution_count": 15,
   "metadata": {},
   "outputs": [
    {
     "name": "stdout",
     "output_type": "stream",
     "text": [
      "[(1366269385606280912, 0, 3), (8656102463236116519, 0, 3), (1366269385606280912, 4, 5), (8656102463236116519, 4, 5)]\n"
     ]
    }
   ],
   "source": [
    "print(found_matches)"
   ]
  },
  {
   "cell_type": "markdown",
   "metadata": {},
   "source": [
    "# phrase matching"
   ]
  },
  {
   "cell_type": "code",
   "execution_count": 16,
   "metadata": {},
   "outputs": [],
   "source": [
    "from spacy.matcher import PhraseMatcher"
   ]
  },
  {
   "cell_type": "code",
   "execution_count": 17,
   "metadata": {},
   "outputs": [],
   "source": [
    "matcher=PhraseMatcher(nlp.vocab)"
   ]
  },
  {
   "cell_type": "code",
   "execution_count": 18,
   "metadata": {},
   "outputs": [],
   "source": [
    "with open ('reaganomics.txt','a+') as f:\n",
    "    doc3=nlp(f.read())"
   ]
  },
  {
   "cell_type": "code",
   "execution_count": 21,
   "metadata": {},
   "outputs": [],
   "source": [
    "phrase_lsit=['voodoo economic',\"supplt-side economics\",\"tickle-down economics\"]"
   ]
  },
  {
   "cell_type": "code",
   "execution_count": 23,
   "metadata": {},
   "outputs": [],
   "source": [
    "phrase_pattern=[nlp(txt) for txt in phrase_lsit]"
   ]
  },
  {
   "cell_type": "code",
   "execution_count": null,
   "metadata": {},
   "outputs": [],
   "source": [
    "matcher.add(\"EconMatcher\",None)"
   ]
  }
 ],
 "metadata": {
  "kernelspec": {
   "display_name": "Python 3",
   "language": "python",
   "name": "python3"
  },
  "language_info": {
   "codemirror_mode": {
    "name": "ipython",
    "version": 3
   },
   "file_extension": ".py",
   "mimetype": "text/x-python",
   "name": "python",
   "nbconvert_exporter": "python",
   "pygments_lexer": "ipython3",
   "version": "3.7.4"
  }
 },
 "nbformat": 4,
 "nbformat_minor": 4
}
